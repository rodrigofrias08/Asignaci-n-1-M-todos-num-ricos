{
 "cells": [
  {
   "cell_type": "markdown",
   "metadata": {},
   "source": [
    "## Asignacion 3 (Método de bisección)"
   ]
  },
  {
   "cell_type": "markdown",
   "metadata": {},
   "source": [
    "Importamos librería, para resolver procesos matemáticos, representar gráficos, importación de widgets para el botón dinámico para escoger los distintos problemas\n"
   ]
  },
  {
   "cell_type": "code",
   "execution_count": 5,
   "metadata": {},
   "outputs": [],
   "source": [
    "import numpy as np\n",
    "import math\n",
    "import matplotlib.pyplot as plt\n",
    "import ipywidgets as widgets\n",
    "from IPython.display import display"
   ]
  },
  {
   "cell_type": "markdown",
   "metadata": {},
   "source": [
    "## Definimos nuestra funciones\n",
    "F(1)=Ln ((x^2)+1)-(e^(x/2)*cos*((pi)*x)\n"
   ]
  },
  {
   "cell_type": "markdown",
   "metadata": {},
   "source": [
    "F(2)= 10 *Sen(x)"
   ]
  },
  {
   "cell_type": "code",
   "execution_count": 6,
   "metadata": {},
   "outputs": [],
   "source": [
    "\n",
    "def f1(x):\n",
    "    return np.log(x**2 + 1) - (np.exp(x / 2) * np.cos(np.pi * x))\n",
    "\n",
    "def f2(x):\n",
    "    return 10 * np.sin(x)"
   ]
  },
  {
   "cell_type": "markdown",
   "metadata": {},
   "source": [
    "## Definimos el método de Bisección y los distintos cálculos que lleva el proceso\n",
    "Definimos el proceso de cálculo de número de iteraciones. Con la fórmula ya despejada de k y logaritmo base 2.\n",
    "Subsecuentemente tenemos los valores del rango inicial (a,b)\n",
    "la tolerancia que nos da el enunciado del problema (tol)\n",
    "y con esto calculamos el número de iteraciones requeridas"
   ]
  },
  {
   "cell_type": "code",
   "execution_count": 7,
   "metadata": {},
   "outputs": [],
   "source": [
    "\n",
    "def metodo_biseccion(f, a, b, tol, iteraciones_max):\n",
    "    iteraciones = []\n",
    "    c = a\n",
    "    iter_count = 0\n",
    "    c_prev = None\n",
    "    \n",
    "    while iter_count < iteraciones_max:\n",
    "        c = (a + b) / 2.0\n",
    "        \n",
    "        # Calcular el error absoluto y relativo\n",
    "        if c_prev is not None:\n",
    "            error_abs = abs(c - c_prev)\n",
    "            error_rel = error_abs / abs(c) if c != 0 else float('inf')\n",
    "        else:\n",
    "            error_abs = None\n",
    "            error_rel = None\n",
    "        \n",
    "        iteraciones.append((iter_count, c, a, b, error_abs, error_rel))\n",
    "        \n",
    "        if f(c) == 0:  \n",
    "            break\n",
    "        elif f(a) * f(c) < 0:\n",
    "            b = c\n",
    "        else:\n",
    "            a = c\n",
    "        \n",
    "        c_prev = c\n",
    "        iter_count += 1\n",
    "    \n",
    "    return c, iter_count, iteraciones"
   ]
  },
  {
   "cell_type": "markdown",
   "metadata": {},
   "source": [
    "## Para encontrar la raíz utilizando el metodo de bisección \n",
    "entonces decimos que raiz, conteo_iteraciones, iteracioneses igual al método de bisección y le asignamos los valores que retornan en 3 variables ya declaradas anteriormente, en el que tenemos que raiz que es el valor encontrado (el punto intermedio del rango), el numero de iteraciones del método de bisección,  y la lista de iteraciones, en cuanto al if que sigue es por si la raiz encontrada encontró una raíz con un valor válido"
   ]
  },
  {
   "cell_type": "markdown",
   "metadata": {},
   "source": [
    "## Ciclo else para escoger operación\n",
    "Definimos el ciclo else y definimos parámetros de cada operación "
   ]
  },
  {
   "cell_type": "markdown",
   "metadata": {},
   "source": [
    "## Gráficas e impresiones\n",
    "\n",
    "Aquí definimos la configuración que llevará la grafica y el ciclo for para mostrar los valores de las raíces, error absoluto y error relativo"
   ]
  },
  {
   "cell_type": "code",
   "execution_count": 8,
   "metadata": {},
   "outputs": [
    {
     "data": {
      "application/vnd.jupyter.widget-view+json": {
       "model_id": "4c4ef137a1ad49a98353e307500b7632",
       "version_major": 2,
       "version_minor": 0
      },
      "text/plain": [
       "ToggleButtons(description='Fórmula:', options=(('Ln((x^2)+1)-(e^(x/2)*cos(pi*x))', 'f1'), ('10*sin(x)', 'f2'))…"
      ]
     },
     "metadata": {},
     "output_type": "display_data"
    },
    {
     "data": {
      "application/vnd.jupyter.widget-view+json": {
       "model_id": "1bc784a4bf2e4ce796c0e6ba947b1b08",
       "version_major": 2,
       "version_minor": 0
      },
      "text/plain": [
       "ToggleButton(value=False, button_style='success', description='Método de Bisección', icon='check', tooltip='Mé…"
      ]
     },
     "metadata": {},
     "output_type": "display_data"
    },
    {
     "data": {
      "application/vnd.jupyter.widget-view+json": {
       "model_id": "4822a75d2d274ffda046883a2d231510",
       "version_major": 2,
       "version_minor": 0
      },
      "text/plain": [
       "Output()"
      ]
     },
     "metadata": {},
     "output_type": "display_data"
    }
   ],
   "source": [
    "\n",
    "def metodo_biseccion(f, a, b, tol, iteraciones_max):\n",
    "    iteraciones = []\n",
    "    c = a\n",
    "    iter_count = 0\n",
    "    c_prev = None\n",
    "    \n",
    "    while iter_count < iteraciones_max:\n",
    "        c = (a + b) / 2.0\n",
    "        \n",
    "        \n",
    "        if c_prev is not None:\n",
    "            error_abs = abs(c - c_prev)\n",
    "            error_rel = error_abs / abs(c) if c != 0 else float('inf')\n",
    "        else:\n",
    "            error_abs = None\n",
    "            error_rel = None\n",
    "        \n",
    "        iteraciones.append((iter_count, c, a, b, error_abs, error_rel))\n",
    "        \n",
    "        if f(c) == 0:  # Si encuentra una raíz exacta, detenerse\n",
    "            break\n",
    "        elif f(a) * f(c) < 0:\n",
    "            b = c\n",
    "        else:\n",
    "            a = c\n",
    "        \n",
    "        c_prev = c\n",
    "        iter_count += 1\n",
    "    \n",
    "    return c, iter_count, iteraciones\n",
    "\n",
    "\n",
    "def calculo_iteraciones(L0, Lk):\n",
    "    return math.ceil(math.log(L0 / Lk, 2))\n",
    "\n",
    "\n",
    "def ejecutar_biseccion(formula):\n",
    "    output.clear_output()  \n",
    "    with output:\n",
    "        if formula == 'f1':  # Ln((x^2)+1)-(e^(x/2)*cos(pi*x))\n",
    "            a = 0.1\n",
    "            b = 0.5\n",
    "            tol = 1e-6\n",
    "            L0 = abs(b - a)\n",
    "            Lk = tol\n",
    "            iteraciones_requeridas = calculo_iteraciones(L0, Lk)\n",
    "            raiz, conteo_iteraciones, iteraciones = metodo_biseccion(f1, a, b, tol, iteraciones_requeridas)\n",
    "        else:  # 10*sin(x)\n",
    "            a = -2\n",
    "            b = 1\n",
    "            tol = 1e-4\n",
    "            L0 = abs(b - a)\n",
    "            Lk = tol\n",
    "            iteraciones_requeridas = calculo_iteraciones(L0, Lk)\n",
    "            raiz, conteo_iteraciones, iteraciones = metodo_biseccion(f2, a, b, tol, iteraciones_requeridas)\n",
    "        \n",
    "        print(f\"Raíz aproximada: {raiz:.5f}\")\n",
    "        print(f\"Número de iteraciones realizadas: {conteo_iteraciones}\")\n",
    "        \n",
    "        \n",
    "        print(\"\\nRaíces aproximadas en cada iteración:\")\n",
    "        for conteo_iter, c, a_val, b_val, error_abs, error_rel in iteraciones:\n",
    "            error_abs_str = f\"{error_abs:.5e}\" if error_abs is not None else \"N/A\"\n",
    "            error_rel_str = f\"{error_rel:.5e}\" if error_rel is not None else \"N/A\"\n",
    "            print(f\"Iteración {conteo_iter}: c = {c:.5f}, Intervalo = [{a_val:.5f}, {b_val:.5f}], Error Absoluto = {error_abs_str}, Error Relativo = {error_rel_str}\")\n",
    "        \n",
    "        # Grafica\n",
    "        x = np.linspace(a, b, 400)\n",
    "        y = f1(x) if formula == 'f1' else f2(x)\n",
    "        \n",
    "        plt.figure(figsize=(10, 6))\n",
    "        plt.plot(x, y, label='f(x)')\n",
    "        plt.axhline(0, color='black', lw=0.5)\n",
    "        plt.title(f'Método de Bisección: {\"Ln((x^2)+1)-(e^(x/2)*cos(pi*x))\" if formula == \"f1\" else \"10*sin(x)\"}')\n",
    "        plt.xlabel('x')\n",
    "        plt.ylabel('f(x)')\n",
    "        plt.grid(True)\n",
    "\n",
    "        for conteo_iter, c, a_val, b_val, error_abs, error_rel in iteraciones:\n",
    "            plt.plot(c, f1(c) if formula == 'f1' else f2(c), 'ro')\n",
    "            plt.text(c, f1(c) if formula == 'f1' else f2(c), f'Iter {conteo_iter}', fontsize=8, ha='right')\n",
    "        \n",
    "        plt.show()\n",
    "\n",
    "\n",
    "toggle_button = widgets.ToggleButton(\n",
    "    value=False,\n",
    "    description='Método de Bisección',\n",
    "    button_style='success',\n",
    "    tooltip='Método de Bisección',\n",
    "    icon='check'\n",
    ")\n",
    "\n",
    "\n",
    "formula_toggle = widgets.ToggleButtons(\n",
    "    options=[('Ln((x^2)+1)-(e^(x/2)*cos(pi*x))', 'f1'), ('10*sin(x)', 'f2')],\n",
    "    value='f1',\n",
    "    description='Fórmula:'\n",
    ")\n",
    "\n",
    "\n",
    "output = widgets.Output()\n",
    "\n",
    "\n",
    "def on_button_click(change):\n",
    "    if change['new']:\n",
    "        ejecutar_biseccion(formula_toggle.value)\n",
    "\n",
    "\n",
    "toggle_button.observe(on_button_click, names='value')\n",
    "\n",
    "\n",
    "display(formula_toggle, toggle_button, output)"
   ]
  }
 ],
 "metadata": {
  "kernelspec": {
   "display_name": "Python 3",
   "language": "python",
   "name": "python3"
  },
  "language_info": {
   "codemirror_mode": {
    "name": "ipython",
    "version": 3
   },
   "file_extension": ".py",
   "mimetype": "text/x-python",
   "name": "python",
   "nbconvert_exporter": "python",
   "pygments_lexer": "ipython3",
   "version": "3.12.5"
  }
 },
 "nbformat": 4,
 "nbformat_minor": 2
}
