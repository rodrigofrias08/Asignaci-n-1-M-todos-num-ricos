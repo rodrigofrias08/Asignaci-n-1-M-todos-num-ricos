{
 "cells": [
  {
   "cell_type": "markdown",
   "metadata": {},
   "source": [
    "## Valores Promedios\n",
    "Declaremos los valores de las variables de la ecuación"
   ]
  },
  {
   "cell_type": "code",
   "execution_count": 31,
   "metadata": {},
   "outputs": [],
   "source": [
    "F_prom = 50  # libra/pie\n",
    "L_prom = 30  # pie\n",
    "E_prom = 1.5 * 10**8  # psi\n",
    "I_prom = 0.06  # pie^4"
   ]
  },
  {
   "cell_type": "markdown",
   "metadata": {},
   "source": [
    "## Deltas o Cambios de las variables\n",
    "Aquí declararemos los deltas de cada variable para calcular la propagación del error"
   ]
  },
  {
   "cell_type": "code",
   "execution_count": 30,
   "metadata": {},
   "outputs": [],
   "source": [
    "delta_F = 2  # libra/pie\n",
    "delta_L = 0.1  # pie\n",
    "delta_E = 0.01 * 10**8  # psi\n",
    "delta_I = 6 * 10**-4  # pie^4"
   ]
  },
  {
   "cell_type": "markdown",
   "metadata": {},
   "source": [
    "## Cálculo del promedio\n",
    "Colocamos la fórmula original y resolvemos la ecuación inicial, para obtener la función \"y\", y así comparar la respuesta vs el error"
   ]
  },
  {
   "cell_type": "code",
   "execution_count": 29,
   "metadata": {},
   "outputs": [],
   "source": [
    "y = (F_prom * L_prom**4) / (8 * E_prom * I_prom)"
   ]
  },
  {
   "cell_type": "markdown",
   "metadata": {},
   "source": [
    "## Derivadas Parciales\n",
    "declaramos las fórmulas de las derivadas parciales, para su resolución y asi poder proseguir con la fórmula del calculo de delta y"
   ]
  },
  {
   "cell_type": "code",
   "execution_count": 28,
   "metadata": {},
   "outputs": [],
   "source": [
    "dy_dF = L_prom**4 / (8 * E_prom * I_prom)\n",
    "dy_dL = (4 * F_prom * L_prom**3) / (8 * E_prom * I_prom)  \n",
    "dy_dE = - (F_prom * L_prom**4) / (8 * E_prom**2 * I_prom)\n",
    "dy_dI = - (F_prom * L_prom**4) / (8 * E_prom * I_prom**2)"
   ]
  },
  {
   "cell_type": "markdown",
   "metadata": {},
   "source": [
    "## Cálculo de Delta \"y\" o Propagación del error.\n",
    "Con las derivadas parciales ya encontradas, procedemos a declarar la nueva fórmula de propagación del error y asi finalmente poder encontrar la y aproximada"
   ]
  },
  {
   "cell_type": "code",
   "execution_count": 27,
   "metadata": {},
   "outputs": [],
   "source": [
    "delta_y = (dy_dF * delta_F) + (dy_dL * delta_L) + (dy_dE * delta_E) + (dy_dI * delta_I)"
   ]
  },
  {
   "cell_type": "markdown",
   "metadata": {},
   "source": [
    "## Cálculo de error absoluto y relativo\n",
    "Colocamos las fórmulas ya conocidas de error absoluto y error relativo"
   ]
  },
  {
   "cell_type": "code",
   "execution_count": 26,
   "metadata": {},
   "outputs": [],
   "source": [
    "error_absoluto = abs(delta_y)\n",
    "error_relativo = abs(y- delta_y / y) if y != 0 else float('inf')"
   ]
  },
  {
   "cell_type": "markdown",
   "metadata": {},
   "source": [
    "## Cálculo de error relacionado a operaciones matemáticas\n",
    "Aquí aplicamos las siguientes ecuaciones para poder calcular el error en cuanto a las operaciones matemáticas, ya que la suma y diferencia usa la misma fórmula y por tanto da la misma respuesta, se mostrara como una respuesta conjunta."
   ]
  },
  {
   "cell_type": "code",
   "execution_count": 43,
   "metadata": {},
   "outputs": [],
   "source": [
    "error_suma_resta = y + delta_y \n",
    "error_multiplicacion = abs(y) * delta_y + abs(delta_y) * y\n",
    "error_division = (abs(y) * delta_y + abs(delta_y) * y) / (delta_y**2 if delta_y != 0 else float('inf'))\n"
   ]
  },
  {
   "cell_type": "markdown",
   "metadata": {},
   "source": [
    "## Resultados\n",
    "en esta sección se ponen los \"prints\", para ver la respuestas que da el código"
   ]
  },
  {
   "cell_type": "code",
   "execution_count": 41,
   "metadata": {},
   "outputs": [
    {
     "name": "stdout",
     "output_type": "stream",
     "text": [
      "y : 0.562500\n",
      "Delta y (serie de Taylor): 0.020625\n",
      "Error absoluto: 0.020625\n",
      "Error relativo: 0.525833\n",
      "Errores debido a operaciones:\n",
      " - Error en la suma/resta de y promedio y delta y: 0.583125\n",
      " - Error en la multiplicación de y promedio y delta y: 0.023203\n",
      " - Error en la división de y promedio y delta y: 54.545455\n"
     ]
    }
   ],
   "source": [
    "print(f\"y : {y:.6f}\")\n",
    "print(f\"Delta y (serie de Taylor): {delta_y:.6f}\")\n",
    "print(f\"Error absoluto: {error_absoluto:.6f}\")\n",
    "print(f\"Error relativo: {error_relativo:.6f}\")  \n",
    "print(\"Errores debido a operaciones:\")\n",
    "print(f\"  Error en la suma/resta de y promedio y delta y: {error_suma_resta:.6f}\")\n",
    "print(f\"  Error en la multiplicación de y promedio y delta y: {error_multiplicacion:.6f}\")\n",
    "print(f\"  Error en la división de y promedio y delta y: {error_division:.6f}\")"
   ]
  }
 ],
 "metadata": {
  "kernelspec": {
   "display_name": "Python 3",
   "language": "python",
   "name": "python3"
  },
  "language_info": {
   "codemirror_mode": {
    "name": "ipython",
    "version": 3
   },
   "file_extension": ".py",
   "mimetype": "text/x-python",
   "name": "python",
   "nbconvert_exporter": "python",
   "pygments_lexer": "ipython3",
   "version": "3.12.5"
  }
 },
 "nbformat": 4,
 "nbformat_minor": 2
}
